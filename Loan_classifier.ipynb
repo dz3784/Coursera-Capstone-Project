{
    "cells": [
        {
            "cell_type": "markdown",
            "metadata": {},
            "source": "## Loan Classifier"
        },
        {
            "cell_type": "code",
            "execution_count": 1,
            "metadata": {},
            "outputs": [],
            "source": "import pandas as pd\nimport numpy as np\nfrom sklearn import preprocessing"
        },
        {
            "cell_type": "code",
            "execution_count": 2,
            "metadata": {},
            "outputs": [
                {
                    "name": "stdout",
                    "output_type": "stream",
                    "text": "--2020-11-27 04:28:01--  https://cf-courses-data.s3.us.cloud-object-storage.appdomain.cloud/IBMDeveloperSkillsNetwork-ML0101EN-SkillsNetwork/labs/Module%204/data/Cust_Segmentation.csv\nResolving cf-courses-data.s3.us.cloud-object-storage.appdomain.cloud (cf-courses-data.s3.us.cloud-object-storage.appdomain.cloud)... 67.228.254.196\nConnecting to cf-courses-data.s3.us.cloud-object-storage.appdomain.cloud (cf-courses-data.s3.us.cloud-object-storage.appdomain.cloud)|67.228.254.196|:443... connected.\nHTTP request sent, awaiting response... 200 OK\nLength: 33426 (33K) [text/csv]\nSaving to: \u2018Cust_Segmentation.csv\u2019\n\nCust_Segmentation.c 100%[===================>]  32.64K  --.-KB/s    in 0.002s  \n\n2020-11-27 04:28:01 (20.0 MB/s) - \u2018Cust_Segmentation.csv\u2019 saved [33426/33426]\n\n"
                }
            ],
            "source": "# load the customer data \n!wget -O Cust_Segmentation.csv https://cf-courses-data.s3.us.cloud-object-storage.appdomain.cloud/IBMDeveloperSkillsNetwork-ML0101EN-SkillsNetwork/labs/Module%204/data/Cust_Segmentation.csv"
        },
        {
            "cell_type": "markdown",
            "metadata": {},
            "source": "# Dataset cleaning"
        },
        {
            "cell_type": "code",
            "execution_count": 3,
            "metadata": {},
            "outputs": [
                {
                    "data": {
                        "text/html": "<div>\n<style scoped>\n    .dataframe tbody tr th:only-of-type {\n        vertical-align: middle;\n    }\n\n    .dataframe tbody tr th {\n        vertical-align: top;\n    }\n\n    .dataframe thead th {\n        text-align: right;\n    }\n</style>\n<table border=\"1\" class=\"dataframe\">\n  <thead>\n    <tr style=\"text-align: right;\">\n      <th></th>\n      <th>Customer Id</th>\n      <th>Age</th>\n      <th>Edu</th>\n      <th>Years Employed</th>\n      <th>Income</th>\n      <th>Card Debt</th>\n      <th>Other Debt</th>\n      <th>Defaulted</th>\n      <th>Address</th>\n      <th>DebtIncomeRatio</th>\n    </tr>\n  </thead>\n  <tbody>\n    <tr>\n      <th>0</th>\n      <td>1</td>\n      <td>41</td>\n      <td>2</td>\n      <td>6</td>\n      <td>19</td>\n      <td>0.124</td>\n      <td>1.073</td>\n      <td>0.0</td>\n      <td>NBA001</td>\n      <td>6.3</td>\n    </tr>\n    <tr>\n      <th>1</th>\n      <td>2</td>\n      <td>47</td>\n      <td>1</td>\n      <td>26</td>\n      <td>100</td>\n      <td>4.582</td>\n      <td>8.218</td>\n      <td>0.0</td>\n      <td>NBA021</td>\n      <td>12.8</td>\n    </tr>\n    <tr>\n      <th>2</th>\n      <td>3</td>\n      <td>33</td>\n      <td>2</td>\n      <td>10</td>\n      <td>57</td>\n      <td>6.111</td>\n      <td>5.802</td>\n      <td>1.0</td>\n      <td>NBA013</td>\n      <td>20.9</td>\n    </tr>\n    <tr>\n      <th>3</th>\n      <td>4</td>\n      <td>29</td>\n      <td>2</td>\n      <td>4</td>\n      <td>19</td>\n      <td>0.681</td>\n      <td>0.516</td>\n      <td>0.0</td>\n      <td>NBA009</td>\n      <td>6.3</td>\n    </tr>\n    <tr>\n      <th>4</th>\n      <td>5</td>\n      <td>47</td>\n      <td>1</td>\n      <td>31</td>\n      <td>253</td>\n      <td>9.308</td>\n      <td>8.908</td>\n      <td>0.0</td>\n      <td>NBA008</td>\n      <td>7.2</td>\n    </tr>\n  </tbody>\n</table>\n</div>",
                        "text/plain": "   Customer Id  Age  Edu  Years Employed  Income  Card Debt  Other Debt  \\\n0            1   41    2               6      19      0.124       1.073   \n1            2   47    1              26     100      4.582       8.218   \n2            3   33    2              10      57      6.111       5.802   \n3            4   29    2               4      19      0.681       0.516   \n4            5   47    1              31     253      9.308       8.908   \n\n   Defaulted Address  DebtIncomeRatio  \n0        0.0  NBA001              6.3  \n1        0.0  NBA021             12.8  \n2        1.0  NBA013             20.9  \n3        0.0  NBA009              6.3  \n4        0.0  NBA008              7.2  "
                    },
                    "execution_count": 3,
                    "metadata": {},
                    "output_type": "execute_result"
                }
            ],
            "source": "cust_df = pd.read_csv(\"Cust_Segmentation.csv\")\ncust_df.head()"
        },
        {
            "cell_type": "code",
            "execution_count": 4,
            "metadata": {},
            "outputs": [
                {
                    "data": {
                        "text/html": "<div>\n<style scoped>\n    .dataframe tbody tr th:only-of-type {\n        vertical-align: middle;\n    }\n\n    .dataframe tbody tr th {\n        vertical-align: top;\n    }\n\n    .dataframe thead th {\n        text-align: right;\n    }\n</style>\n<table border=\"1\" class=\"dataframe\">\n  <thead>\n    <tr style=\"text-align: right;\">\n      <th></th>\n      <th>Customer Id</th>\n      <th>Age</th>\n      <th>Edu</th>\n      <th>Years Employed</th>\n      <th>Income</th>\n      <th>Card Debt</th>\n      <th>Other Debt</th>\n      <th>Defaulted</th>\n      <th>DebtIncomeRatio</th>\n    </tr>\n  </thead>\n  <tbody>\n    <tr>\n      <th>0</th>\n      <td>1</td>\n      <td>41</td>\n      <td>2</td>\n      <td>6</td>\n      <td>19</td>\n      <td>0.124</td>\n      <td>1.073</td>\n      <td>0.0</td>\n      <td>6.3</td>\n    </tr>\n    <tr>\n      <th>1</th>\n      <td>2</td>\n      <td>47</td>\n      <td>1</td>\n      <td>26</td>\n      <td>100</td>\n      <td>4.582</td>\n      <td>8.218</td>\n      <td>0.0</td>\n      <td>12.8</td>\n    </tr>\n    <tr>\n      <th>2</th>\n      <td>3</td>\n      <td>33</td>\n      <td>2</td>\n      <td>10</td>\n      <td>57</td>\n      <td>6.111</td>\n      <td>5.802</td>\n      <td>1.0</td>\n      <td>20.9</td>\n    </tr>\n    <tr>\n      <th>3</th>\n      <td>4</td>\n      <td>29</td>\n      <td>2</td>\n      <td>4</td>\n      <td>19</td>\n      <td>0.681</td>\n      <td>0.516</td>\n      <td>0.0</td>\n      <td>6.3</td>\n    </tr>\n    <tr>\n      <th>4</th>\n      <td>5</td>\n      <td>47</td>\n      <td>1</td>\n      <td>31</td>\n      <td>253</td>\n      <td>9.308</td>\n      <td>8.908</td>\n      <td>0.0</td>\n      <td>7.2</td>\n    </tr>\n  </tbody>\n</table>\n</div>",
                        "text/plain": "   Customer Id  Age  Edu  Years Employed  Income  Card Debt  Other Debt  \\\n0            1   41    2               6      19      0.124       1.073   \n1            2   47    1              26     100      4.582       8.218   \n2            3   33    2              10      57      6.111       5.802   \n3            4   29    2               4      19      0.681       0.516   \n4            5   47    1              31     253      9.308       8.908   \n\n   Defaulted  DebtIncomeRatio  \n0        0.0              6.3  \n1        0.0             12.8  \n2        1.0             20.9  \n3        0.0              6.3  \n4        0.0              7.2  "
                    },
                    "execution_count": 4,
                    "metadata": {},
                    "output_type": "execute_result"
                }
            ],
            "source": "# pre-processing\n#Address column is not numeric field, would like to exclude\ndf = cust_df.drop('Address',axis=1)\ndf.head()"
        },
        {
            "cell_type": "code",
            "execution_count": 5,
            "metadata": {},
            "outputs": [
                {
                    "name": "stdout",
                    "output_type": "stream",
                    "text": "The sahape of dataset before cleanning:  7650\nThe sahape of dataset after cleanning:  6300\n"
                }
            ],
            "source": "# since \"Defaulted\" column is the train/predict value with NAN values, for model accuracy, we need to drop it\nprint(\"The sahape of dataset before cleanning: \", df.size)\ndf = df.dropna()\ndf = df.reset_index(drop=True)\ndf.head()\nprint(\"The sahape of dataset after cleanning: \", df.size)"
        },
        {
            "cell_type": "code",
            "execution_count": 6,
            "metadata": {},
            "outputs": [
                {
                    "data": {
                        "text/plain": "Index(['Customer Id', 'Age', 'Edu', 'Years Employed', 'Income', 'Card Debt',\n       'Other Debt', 'Defaulted', 'DebtIncomeRatio'],\n      dtype='object')"
                    },
                    "execution_count": 6,
                    "metadata": {},
                    "output_type": "execute_result"
                }
            ],
            "source": "# tranform the dataframe to array\ndf.columns"
        },
        {
            "cell_type": "code",
            "execution_count": 7,
            "metadata": {},
            "outputs": [
                {
                    "data": {
                        "text/plain": "array([[1.000e+00, 4.100e+01, 2.000e+00, 6.000e+00, 1.900e+01, 1.240e-01,\n        1.073e+00, 6.300e+00],\n       [2.000e+00, 4.700e+01, 1.000e+00, 2.600e+01, 1.000e+02, 4.582e+00,\n        8.218e+00, 1.280e+01],\n       [3.000e+00, 3.300e+01, 2.000e+00, 1.000e+01, 5.700e+01, 6.111e+00,\n        5.802e+00, 2.090e+01],\n       [4.000e+00, 2.900e+01, 2.000e+00, 4.000e+00, 1.900e+01, 6.810e-01,\n        5.160e-01, 6.300e+00],\n       [5.000e+00, 4.700e+01, 1.000e+00, 3.100e+01, 2.530e+02, 9.308e+00,\n        8.908e+00, 7.200e+00]])"
                    },
                    "execution_count": 7,
                    "metadata": {},
                    "output_type": "execute_result"
                }
            ],
            "source": "X = df[['Customer Id', 'Age', 'Edu', 'Years Employed', 'Income', 'Card Debt','Other Debt',  'DebtIncomeRatio']].values.astype(float)\n\ny=df['Defaulted'].values.astype(int)\nX[0:5]\n#y[0:5]"
        },
        {
            "cell_type": "markdown",
            "metadata": {},
            "source": "## KNN"
        },
        {
            "cell_type": "code",
            "execution_count": 8,
            "metadata": {},
            "outputs": [
                {
                    "data": {
                        "text/plain": "array([[-1.76624318,  0.76830405,  0.29879269, -0.35900652, -0.72310225,\n        -0.67569934, -0.60428433, -0.58052847],\n       [-1.76213049,  1.51908977, -0.77932527,  2.64702891,  1.47870741,\n         1.43142147,  1.5706204 ,  0.37222169],\n       [-1.75801779, -0.23274357,  0.29879269,  0.24220057,  0.30984549,\n         2.15411948,  0.83520125,  1.55949495],\n       [-1.7539051 , -0.73326739,  0.29879269, -0.65961006, -0.72310225,\n        -0.41242741, -0.77383254, -0.58052847],\n       [-1.74979241,  1.51908977, -0.77932527,  3.39853777,  5.6376812 ,\n         3.66521532,  1.78065319, -0.44860921]])"
                    },
                    "execution_count": 8,
                    "metadata": {},
                    "output_type": "execute_result"
                }
            ],
            "source": "# Normalize data\nX = preprocessing.StandardScaler().fit(X).transform(X.astype(float))\nX[0:5]"
        },
        {
            "cell_type": "code",
            "execution_count": 9,
            "metadata": {},
            "outputs": [
                {
                    "name": "stdout",
                    "output_type": "stream",
                    "text": "Train set:  (560, 8) (560,)\nTest set:  (140, 8) (140,)\n"
                }
            ],
            "source": "# Train Test data set\nfrom sklearn.model_selection import train_test_split\nX_train, X_test, y_train, y_test = train_test_split(X,y,test_size=0.2, random_state=4)\nprint(\"Train set: \",X_train.shape, y_train.shape)\nprint(\"Test set: \", X_test.shape, y_test.shape)"
        },
        {
            "cell_type": "code",
            "execution_count": 10,
            "metadata": {},
            "outputs": [
                {
                    "data": {
                        "text/plain": "array([0.71428571, 0.76428571, 0.73571429, 0.77857143, 0.77857143,\n       0.75      , 0.75      , 0.74285714, 0.74285714])"
                    },
                    "execution_count": 10,
                    "metadata": {},
                    "output_type": "execute_result"
                }
            ],
            "source": "# KNN training\nfrom sklearn.neighbors import KNeighborsClassifier\nfrom sklearn import metrics\n\n## loop in 10 Ks number to find the best K value\nKs = 10\n\nmean_acc = np.zeros((Ks-1))\nstd_acc = np.zeros((Ks-1))\nConfustionMx = []\n\nfor n in range(1,Ks):\n    #train model and predict\n    neigh = KNeighborsClassifier(n_neighbors=n).fit(X_train, y_train)\n    yhat = neigh.predict(X_test)\n    \n    mean_acc[n-1]=metrics.accuracy_score(y_test,yhat)\n    std_acc[n-1] = np.std(yhat==y_test) / np.sqrt(yhat.shape[0])\n\n\nmean_acc"
        },
        {
            "cell_type": "code",
            "execution_count": 11,
            "metadata": {},
            "outputs": [
                {
                    "data": {
                        "image/png": "[encoded data removed]",
                        "text/plain": "<Figure size 432x288 with 1 Axes>"
                    },
                    "metadata": {
                        "needs_background": "light"
                    },
                    "output_type": "display_data"
                },
                {
                    "name": "stdout",
                    "output_type": "stream",
                    "text": "The best accuracy was 0.7785714285714286 with k= 4\n"
                }
            ],
            "source": "#plot model accuracy for different number of neighbors\nimport matplotlib.pyplot as plt\n\n%matplotlib inline\nplt.plot(range(1,Ks),mean_acc,'g')\nplt.fill_between(range(1,Ks),mean_acc-1*std_acc,mean_acc+1*std_acc,alpha=0.10)\nplt.legend('Accuracy ')\nplt.ylabel('Accuracy')\nplt.xlabel('Number of Neighbors (K)')\nplt.tight_layout()\nplt.show()\nprint(\"The best accuracy was\", mean_acc.max(), \"with k=\",mean_acc.argmax()+1)"
        },
        {
            "cell_type": "code",
            "execution_count": 22,
            "metadata": {},
            "outputs": [
                {
                    "name": "stdout",
                    "output_type": "stream",
                    "text": "KNN-4: jaccard score=  0.6212406015037594\nKNN-4: f1 score=  0.7288416075650118\n              precision    recall  f1-score   support\n\n           0       0.78      0.97      0.87       105\n           1       0.70      0.20      0.31        35\n\n    accuracy                           0.78       140\n   macro avg       0.74      0.59      0.59       140\nweighted avg       0.76      0.78      0.73       140\n\n[[102   3]\n [ 28   7]]\n"
                }
            ],
            "source": "# Accuracy \nK=4\nneigh4 = KNeighborsClassifier(n_neighbors=K).fit(X_train,y_train)\nyhat4 = neigh4.predict(X_test)\n\n# Jaccard index\n#from sklearn.metrics import jaccard_similarity_score\n#k4_jaccardindex=jaccard_similarity_score(y_test,yhat4)\n# python 3.7 using jaccard_score\nfrom sklearn.metrics import jaccard_score\nk4_jaccard = jaccard_score(y_test, yhat4,average='weighted')\n#print(y_test)\n#print(yhat4)\n\n# F1 score\nfrom sklearn.metrics import f1_score\nk4_f1=f1_score(y_test,yhat4,average='weighted')\n\n# LogLoss\nfrom sklearn.metrics import log_loss\n#k4_logloass = log_loss(y_test, yhat4)\n#not apply to KNN\n\nprint(\"KNN-4: jaccard score= \",k4_jaccard)\nprint(\"KNN-4: f1 score= \",k4_f1)\n#print(\"KNN-4: logLoass = \", k4_logloass)\n\nfrom sklearn.metrics import classification_report,confusion_matrix\nprint(classification_report(y_test,yhat4))\nprint(confusion_matrix(y_test,yhat4))"
        },
        {
            "cell_type": "markdown",
            "metadata": {},
            "source": "## Decision Tree"
        },
        {
            "cell_type": "code",
            "execution_count": 23,
            "metadata": {},
            "outputs": [
                {
                    "name": "stdout",
                    "output_type": "stream",
                    "text": "shape of X train set(560, 8) &  Size of y train set(560,)\n"
                }
            ],
            "source": "# dateset has been cleaning preivous at the top section\n#setting up the decision tree\nfrom sklearn.tree import DecisionTreeClassifier\nfrom sklearn.model_selection import train_test_split\n\n# split train/test set for decision tree\nX_trainset, X_testset, y_trainset, y_testset = train_test_split(X, y, test_size=0.2, random_state=4)\n\n# check the shape of X_trainset, y_trainset. Ensure that the dimension match\nprint('shape of X train set{}'.format(X_trainset.shape),'&',' Size of y train set{}'.format(y_trainset.shape))"
        },
        {
            "cell_type": "code",
            "execution_count": 24,
            "metadata": {},
            "outputs": [
                {
                    "name": "stdout",
                    "output_type": "stream",
                    "text": "[0 1 0 1 0]\n[1 0 0 0 0]\n"
                }
            ],
            "source": "# Modeling\n#Inside of the classifier, specify criterion=\"entropy\" so we can see the information gain of each node\nloanTree = DecisionTreeClassifier(criterion='entropy',max_depth=4)\n\n#training\nloanTree.fit(X_trainset,y_trainset)\n\n#predict\npredTree = loanTree.predict(X_testset)\n\n# visualize the top predict and actual \nprint(predTree[0:5])\nprint(y_testset[0:5])\n"
        },
        {
            "cell_type": "code",
            "execution_count": 25,
            "metadata": {},
            "outputs": [
                {
                    "name": "stdout",
                    "output_type": "stream",
                    "text": "loanTree's Accuracy:  0.7\nloanTree: jaccard score=  0.5594618055555555\nloanTree: f1 score=  0.693712829226848\n              precision    recall  f1-score   support\n\n           0       0.79      0.82      0.80       105\n           1       0.39      0.34      0.36        35\n\n    accuracy                           0.70       140\n   macro avg       0.59      0.58      0.58       140\nweighted avg       0.69      0.70      0.69       140\n\n[[86 19]\n [23 12]]\n"
                }
            ],
            "source": "# Evaluation loanTree\nfrom sklearn import metrics\nprint(\"loanTree's Accuracy: \", metrics.accuracy_score(y_testset,predTree))\n\nfrom sklearn.metrics import jaccard_score\nloanTree_jaccard = jaccard_score(y_testset, predTree,average='weighted')\n\n\n# F1 score\nfrom sklearn.metrics import f1_score\nloanTree_f1=f1_score(y_testset,predTree,average='weighted')\n\n# LogLoass\n#from sklearn.metrics import log_loss\n#loanTree_logloass = log_loss(y_testset, predTree)\n# logloss not apply to DecisionTree\n\nprint(\"loanTree: jaccard score= \",loanTree_jaccard)\nprint(\"loanTree: f1 score= \",loanTree_f1)\n#print(\"loanTree: logLoass = \", loanTree_logloass)\n\nfrom sklearn.metrics import classification_report,confusion_matrix\nprint(classification_report(y_testset,predTree))\nprint(confusion_matrix(y_testset,predTree))"
        },
        {
            "cell_type": "markdown",
            "metadata": {},
            "source": "## SVM"
        },
        {
            "cell_type": "code",
            "execution_count": 26,
            "metadata": {},
            "outputs": [],
            "source": "import scipy.optimize as opt\nfrom sklearn import preprocessing\nfrom sklearn.model_selection import train_test_split"
        },
        {
            "cell_type": "code",
            "execution_count": 27,
            "metadata": {},
            "outputs": [
                {
                    "name": "stdout",
                    "output_type": "stream",
                    "text": "Train set/: (560, 8) (560,)\nTest set/: (140, 8) (140,)\n"
                }
            ],
            "source": "# train/test data set for svm\nX_trainsvm,X_testsvm,y_trainsvm,y_testsvm = train_test_split(X,y,test_size=0.2, random_state=4)\nprint(\"Train set/:\", X_trainsvm.shape,y_trainsvm.shape)\nprint(\"Test set/:\", X_testsvm.shape,y_testsvm.shape)"
        },
        {
            "cell_type": "code",
            "execution_count": 28,
            "metadata": {},
            "outputs": [
                {
                    "name": "stdout",
                    "output_type": "stream",
                    "text": "Kernel RBF f1 score: 0.7615535889872173\nKernel linear f1 score: 0.7732793522267205\nKernel Sigmoid f1 score: 0.6969696969696971\nKernel polynomial f1 score: 0.6969696969696971\n              precision    recall  f1-score   support\n\n           0       0.78      0.86      0.82       105\n           1       0.40      0.29      0.33        35\n\n    accuracy                           0.71       140\n   macro avg       0.59      0.57      0.58       140\nweighted avg       0.69      0.71      0.70       140\n\n"
                }
            ],
            "source": "#Modeling SVM\nfrom sklearn import svm\n\n# try with Radial Basis (RBF) kernel fuction\nsvm_rbf = svm.SVC(kernel='rbf')\nsvm_rbf.fit(X_trainsvm,y_trainsvm)\nyhat_rbf = svm_rbf.predict(X_testsvm)\n\nfrom sklearn.metrics import f1_score\nf1_rbf = f1_score(y_testsvm,yhat_rbf,average='weighted')\n\n#try with linear kernel function\nsvm_l = svm.SVC(kernel='linear')\nsvm_l.fit(X_trainsvm,y_trainsvm)\nyhat_l = svm_l.predict(X_testsvm)\n\nf1_l = f1_score(y_testsvm,yhat_l,average='weighted')\n\n#try with sigmoid kernel function\nsvm_sm = svm.SVC(kernel='sigmoid')\nsvm_sm.fit(X_trainsvm,y_trainsvm)\nyhat_sm = svm_sm.predict(X_testsvm)\n\nf1_sm = f1_score(y_testsvm,yhat_sm,average='weighted')\n\n#try with poly kernel function\nsvm_poly = svm.SVC(kernel='poly')\nsvm_poly.fit(X_trainsvm,y_trainsvm)\nyhat_poly = svm_poly.predict(X_testsvm)\n\nf1_poly = f1_score(y_testsvm,yhat_sm,average='weighted')\nprint(\"Kernel RBF f1 score:\",f1_rbf)\nprint(\"Kernel linear f1 score:\",f1_l)\nprint(\"Kernel Sigmoid f1 score:\",f1_sm)\nprint(\"Kernel polynomial f1 score:\",f1_poly)\n\nfrom sklearn.metrics import classification_report\nprint(classification_report(y_testsvm,yhat_sm))"
        },
        {
            "cell_type": "code",
            "execution_count": 29,
            "metadata": {},
            "outputs": [
                {
                    "name": "stdout",
                    "output_type": "stream",
                    "text": "LoanSVM_linear jaccard score: 0.6609375\nLoanSVM_linear f1 score: 0.7732793522267205\n              precision    recall  f1-score   support\n\n           0       0.81      0.95      0.88       105\n           1       0.71      0.34      0.46        35\n\n    accuracy                           0.80       140\n   macro avg       0.76      0.65      0.67       140\nweighted avg       0.79      0.80      0.77       140\n\n[[100   5]\n [ 23  12]]\n"
                }
            ],
            "source": "# linear kernel has the highest f1 score\n# calculte the jaccard and loglass score for linear kernel model\nfrom  sklearn.metrics import jaccard_score\nsvm_l_jaccard = jaccard_score(y_testsvm, yhat_l,average='weighted')\n#from sklearn.metrics import log_loss\n#svm_l_logloass = log_loss(y_testsvm,yhat_l)\n\nprint(\"LoanSVM_linear jaccard score:\",svm_l_jaccard)\nprint(\"LoanSVM_linear f1 score:\", f1_l)\n#print(\"LoanSVM_linear logLoass:\", svm_l_logloass)\n\nfrom sklearn.metrics import classification_report,confusion_matrix\nprint(classification_report(y_testsvm,yhat_l))\nprint(confusion_matrix(y_testsvm,yhat_l))"
        },
        {
            "cell_type": "markdown",
            "metadata": {},
            "source": "## Logistic Regression"
        },
        {
            "cell_type": "code",
            "execution_count": 30,
            "metadata": {},
            "outputs": [],
            "source": "import pandas as pd\nimport pylab as pl\nimport numpy as np\nimport scipy.optimize as opt\nfrom sklearn import preprocessing\nimport matplotlib.pyplot as plt\n%matplotlib inline\n"
        },
        {
            "cell_type": "code",
            "execution_count": 31,
            "metadata": {},
            "outputs": [
                {
                    "data": {
                        "text/plain": "array([[-1.76624318,  0.76830405,  0.29879269, -0.35900652, -0.72310225,\n        -0.67569934, -0.60428433, -0.58052847],\n       [-1.76213049,  1.51908977, -0.77932527,  2.64702891,  1.47870741,\n         1.43142147,  1.5706204 ,  0.37222169],\n       [-1.75801779, -0.23274357,  0.29879269,  0.24220057,  0.30984549,\n         2.15411948,  0.83520125,  1.55949495],\n       [-1.7539051 , -0.73326739,  0.29879269, -0.65961006, -0.72310225,\n        -0.41242741, -0.77383254, -0.58052847],\n       [-1.74979241,  1.51908977, -0.77932527,  3.39853777,  5.6376812 ,\n         3.66521532,  1.78065319, -0.44860921]])"
                    },
                    "execution_count": 31,
                    "metadata": {},
                    "output_type": "execute_result"
                }
            ],
            "source": "#normalize the dataset\n# been done in cell 23\nX[0:5]"
        },
        {
            "cell_type": "code",
            "execution_count": 32,
            "metadata": {},
            "outputs": [
                {
                    "name": "stdout",
                    "output_type": "stream",
                    "text": "Train set:  (560, 8) (560,)\nTest set:  (140, 8) (140,)\n"
                }
            ],
            "source": "#train/test dataset split\nfrom sklearn.model_selection import train_test_split\nX_trainlr,X_testlr, y_trainlr,y_testlr = train_test_split(X,y,test_size=0.2, random_state=4)\nprint('Train set: ', X_trainlr.shape,y_trainlr.shape)\nprint('Test set: ', X_testlr.shape,y_testlr.shape)"
        },
        {
            "cell_type": "code",
            "execution_count": 33,
            "metadata": {},
            "outputs": [
                {
                    "data": {
                        "text/plain": "array([[0.55524248, 0.44475752],\n       [0.4248725 , 0.5751275 ],\n       [0.7491835 , 0.2508165 ],\n       [0.46096491, 0.53903509],\n       [0.72620634, 0.27379366]])"
                    },
                    "execution_count": 33,
                    "metadata": {},
                    "output_type": "execute_result"
                }
            ],
            "source": "#Modeling (Logistic Regression with Scikit-learn)\nfrom sklearn.linear_model import LogisticRegression\nfrom sklearn.metrics import confusion_matrix\n#solver = 'liblinear'\nLRl = LogisticRegression(C=0.01, solver='liblinear').fit(X_trainlr,y_trainlr)\nLRl\n#predict with test set\nyhat_lrl = LRl.predict(X_testlr)\n# predict prob [P(Y=1|X), P(Y=0|X)]\nyhat_lrl_prob = LRl.predict_proba(X_testlr)\nyhat_lrl_prob[0:5]"
        },
        {
            "cell_type": "code",
            "execution_count": 34,
            "metadata": {},
            "outputs": [
                {
                    "name": "stdout",
                    "output_type": "stream",
                    "text": "Logistic Regression (linear) Jaccard score: 0.6484160410181286\n"
                }
            ],
            "source": "#Evaluation\n#jaccard index\nfrom sklearn.metrics import jaccard_score\nlrl_jacc = jaccard_score(y_testlr,yhat_lrl,average='weighted')\nprint(\"Logistic Regression (linear) Jaccard score:\",lrl_jacc)"
        },
        {
            "cell_type": "code",
            "execution_count": 35,
            "metadata": {},
            "outputs": [
                {
                    "name": "stdout",
                    "output_type": "stream",
                    "text": "              precision    recall  f1-score   support\n\n           0       0.82      0.92      0.87       105\n           1       0.62      0.37      0.46        35\n\n    accuracy                           0.79       140\n   macro avg       0.72      0.65      0.67       140\nweighted avg       0.77      0.79      0.77       140\n\n[[97  8]\n [22 13]]\n"
                }
            ],
            "source": "from sklearn.metrics import classification_report, confusion_matrix\nprint(classification_report(y_testlr,yhat_lrl))\nprint(confusion_matrix(y_testlr,yhat_lrl))"
        },
        {
            "cell_type": "code",
            "execution_count": 36,
            "metadata": {},
            "outputs": [
                {
                    "data": {
                        "text/plain": "0.5138650973826836"
                    },
                    "execution_count": 36,
                    "metadata": {},
                    "output_type": "execute_result"
                }
            ],
            "source": "#Log loss\nfrom sklearn.metrics import log_loss\nlrl_logloss=log_loss(y_testlr,yhat_lrl_prob)\nlrl_logloss"
        },
        {
            "cell_type": "code",
            "execution_count": null,
            "metadata": {},
            "outputs": [],
            "source": ""
        },
        {
            "cell_type": "code",
            "execution_count": 37,
            "metadata": {},
            "outputs": [
                {
                    "name": "stdout",
                    "output_type": "stream",
                    "text": "              precision    recall  f1-score   support\n\n           0       0.79      1.00      0.88       105\n           1       1.00      0.20      0.33        35\n\n    accuracy                           0.80       140\n   macro avg       0.89      0.60      0.61       140\nweighted avg       0.84      0.80      0.75       140\n\n[[105   0]\n [ 28   7]]\nLogistic Regression (sag) Jaccard score:  0.6421052631578947\n"
                }
            ],
            "source": "# Try different solver: sag\nLRs = LogisticRegression(C=0.01, solver='sag').fit(X_trainlr,y_trainlr)\nyhat_lrs = LRs.predict(X_testlr)\nyhat_lrs_prob = LRs.predict_proba(X_testlr)\n\nlogloss_lrs = log_loss(y_testlr,yhat_lrs_prob)\nlogloss_lrs\nfrom sklearn.metrics import classification_report, confusion_matrix\nprint(classification_report(y_testlr,yhat_lrs))\nprint(confusion_matrix(y_testlr,yhat_lrs))\n\nprint(\"Logistic Regression (sag) Jaccard score: \",jaccard_score(y_testlr,yhat_lrs,average='weighted'))"
        },
        {
            "cell_type": "code",
            "execution_count": 38,
            "metadata": {},
            "outputs": [
                {
                    "name": "stdout",
                    "output_type": "stream",
                    "text": "Loan Logistic Regression(linear) F1 Score: 0.765625\nLoan Logistic Regression(sag) F1 Score: 0.7450980392156863\n"
                }
            ],
            "source": "# F1 score\nfrom sklearn.metrics import f1_score\nlrl_f1 = f1_score(y_testlr,yhat_lrl,average='weighted')\nlrs_f1 = f1_score(y_testlr,yhat_lrs,average='weighted')\nprint(\"Loan Logistic Regression(linear) F1 Score:\",lrl_f1)\nprint(\"Loan Logistic Regression(sag) F1 Score:\",lrs_f1)"
        },
        {
            "cell_type": "code",
            "execution_count": 39,
            "metadata": {},
            "outputs": [
                {
                    "name": "stdout",
                    "output_type": "stream",
                    "text": "F1/Jaccard score:solver=liblinear is better than solver=sag\nConfusion matrix: sag better than liblinear\n"
                }
            ],
            "source": "print(\"F1/Jaccard score:solver=liblinear is better than solver=sag\")\nprint(\"Confusion matrix: sag better than liblinear\")"
        },
        {
            "cell_type": "code",
            "execution_count": 40,
            "metadata": {},
            "outputs": [
                {
                    "name": "stdout",
                    "output_type": "stream",
                    "text": "Jaccard Score:\nLoanKNN-4: jaccard score=  0.6212406015037594\nLoanDTree: jaccard score=  0.5594618055555555\nLoanSVM_linear jaccard score: 0.6609375\nLoan Logistic Regression (linear) Jaccard score: 0.6484160410181286\nF1 Score:\nLoanKNN-4: f1 score=  0.7288416075650118\nLoanDTree: f1 score=  0.693712829226848\nLoanSVM_linear f1 score: 0.7732793522267205\nLoan Logistic Regression(linear) F1 Score: 0.765625\nLog Loss:\nLoan Logistic Regression (linear) LogLoss: 0.5138650973826836\nKNN-4 confusion:\n [[102   3]\n [ 28   7]]\nDecision Tree confusion:\n [[86 19]\n [23 12]]\nSVM (linear) confusion:\n [[100   5]\n [ 23  12]]\nLogistic Reg (sag) confusion: The Best\n [[105   0]\n [ 28   7]]\n"
                }
            ],
            "source": "# compare KNN-4, DecisionTree, SVM-linear, LogisticRegression-linear Accuracy\nprint(\"Jaccard Score:\")\nprint(\"LoanKNN-4: jaccard score= \",k4_jaccard)\nprint(\"LoanDTree: jaccard score= \",loanTree_jaccard)\nprint(\"LoanSVM_linear jaccard score:\",svm_l_jaccard)\nprint(\"Loan Logistic Regression (linear) Jaccard score:\",lrl_jacc)\n\nprint(\"F1 Score:\")\nprint(\"LoanKNN-4: f1 score= \",k4_f1)\nprint(\"LoanDTree: f1 score= \",loanTree_f1)\nprint(\"LoanSVM_linear f1 score:\", f1_l)\nprint(\"Loan Logistic Regression(linear) F1 Score:\",lrl_f1)\n\nprint(\"Log Loss:\")\nprint(\"Loan Logistic Regression (linear) LogLoss:\", lrl_logloss)\n\nprint(\"KNN-4 confusion:\\n\",confusion_matrix(y_test,yhat4))\nprint(\"Decision Tree confusion:\\n\",confusion_matrix(y_testset,predTree))\nprint(\"SVM (linear) confusion:\\n\",confusion_matrix(y_testsvm,yhat_l))\nprint(\"Logistic Reg (sag) confusion: The Best\\n\",confusion_matrix(y_testlr,yhat_lrs))"
        },
        {
            "cell_type": "code",
            "execution_count": null,
            "metadata": {},
            "outputs": [],
            "source": ""
        }
    ],
    "metadata": {
        "kernelspec": {
            "display_name": "Python 3.7",
            "language": "python",
            "name": "python3"
        },
        "language_info": {
            "codemirror_mode": {
                "name": "ipython",
                "version": 3
            },
            "file_extension": ".py",
            "mimetype": "text/x-python",
            "name": "python",
            "nbconvert_exporter": "python",
            "pygments_lexer": "ipython3",
            "version": "3.7.9"
        }
    },
    "nbformat": 4,
    "nbformat_minor": 1
}